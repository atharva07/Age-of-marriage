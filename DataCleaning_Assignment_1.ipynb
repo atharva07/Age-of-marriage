{
 "cells": [
  {
   "cell_type": "markdown",
   "id": "74766030",
   "metadata": {},
   "source": [
    "#                                        Data Cleaning Project \n",
    "### This is a sampe dataset which consists of age of getting married. The Dataset also consists of different variables like gender, height, religion, mother tongue, profession, location etc. The data is not in proper order to perform data analysis. Therefore, the data cleaning process is needed to do Data Analysis and perform different statistical operations. "
   ]
  },
  {
   "cell_type": "code",
   "execution_count": 4,
   "id": "1a68f950",
   "metadata": {},
   "outputs": [],
   "source": [
    "import numpy as np\n",
    "import pandas as pd\n",
    "from collections import Counter\n",
    "from numpy import NaN \n",
    "\n",
    "import warnings \n",
    "warnings.filterwarnings('ignore')"
   ]
  },
  {
   "cell_type": "code",
   "execution_count": 5,
   "id": "1c26e3c0",
   "metadata": {},
   "outputs": [],
   "source": [
    "# importing data\n",
    "agemrg = pd.read_csv('age_of_marriage_data.csv')"
   ]
  },
  {
   "cell_type": "code",
   "execution_count": 6,
   "id": "976c29ff",
   "metadata": {},
   "outputs": [
    {
     "data": {
      "text/html": [
       "<div>\n",
       "<style scoped>\n",
       "    .dataframe tbody tr th:only-of-type {\n",
       "        vertical-align: middle;\n",
       "    }\n",
       "\n",
       "    .dataframe tbody tr th {\n",
       "        vertical-align: top;\n",
       "    }\n",
       "\n",
       "    .dataframe thead th {\n",
       "        text-align: right;\n",
       "    }\n",
       "</style>\n",
       "<table border=\"1\" class=\"dataframe\">\n",
       "  <thead>\n",
       "    <tr style=\"text-align: right;\">\n",
       "      <th></th>\n",
       "      <th>id</th>\n",
       "      <th>gender</th>\n",
       "      <th>height</th>\n",
       "      <th>religion</th>\n",
       "      <th>caste</th>\n",
       "      <th>mother_tongue</th>\n",
       "      <th>profession</th>\n",
       "      <th>location</th>\n",
       "      <th>country</th>\n",
       "      <th>age_of_marriage</th>\n",
       "    </tr>\n",
       "  </thead>\n",
       "  <tbody>\n",
       "    <tr>\n",
       "      <th>0</th>\n",
       "      <td>1</td>\n",
       "      <td>female</td>\n",
       "      <td>5'4\"</td>\n",
       "      <td>NaN</td>\n",
       "      <td>others</td>\n",
       "      <td>Telugu</td>\n",
       "      <td>NaN</td>\n",
       "      <td>London</td>\n",
       "      <td>United Kingdom</td>\n",
       "      <td>21.0</td>\n",
       "    </tr>\n",
       "    <tr>\n",
       "      <th>1</th>\n",
       "      <td>2</td>\n",
       "      <td>male</td>\n",
       "      <td>5'7\"</td>\n",
       "      <td>Jain</td>\n",
       "      <td>Shwetamber</td>\n",
       "      <td>Gujarati</td>\n",
       "      <td>Doctor / Healthcare Professional</td>\n",
       "      <td>Fairfax- VA</td>\n",
       "      <td>USA</td>\n",
       "      <td>32.0</td>\n",
       "    </tr>\n",
       "    <tr>\n",
       "      <th>2</th>\n",
       "      <td>3</td>\n",
       "      <td>male</td>\n",
       "      <td>5'7\"</td>\n",
       "      <td>Hindu</td>\n",
       "      <td>Brahmin</td>\n",
       "      <td>Hindi</td>\n",
       "      <td>Entrepreneurs / Business</td>\n",
       "      <td>Begusarai</td>\n",
       "      <td>India</td>\n",
       "      <td>32.0</td>\n",
       "    </tr>\n",
       "    <tr>\n",
       "      <th>3</th>\n",
       "      <td>4</td>\n",
       "      <td>female</td>\n",
       "      <td>5'0\"</td>\n",
       "      <td>Hindu</td>\n",
       "      <td>Thakur</td>\n",
       "      <td>Hindi</td>\n",
       "      <td>Architect</td>\n",
       "      <td>Mumbai</td>\n",
       "      <td>India</td>\n",
       "      <td>30.0</td>\n",
       "    </tr>\n",
       "    <tr>\n",
       "      <th>4</th>\n",
       "      <td>5</td>\n",
       "      <td>male</td>\n",
       "      <td>5'5\"</td>\n",
       "      <td>Christian</td>\n",
       "      <td>Born Again</td>\n",
       "      <td>Malayalam</td>\n",
       "      <td>Sales Professional / Marketing</td>\n",
       "      <td>Sulthan Bathery</td>\n",
       "      <td>India</td>\n",
       "      <td>30.0</td>\n",
       "    </tr>\n",
       "  </tbody>\n",
       "</table>\n",
       "</div>"
      ],
      "text/plain": [
       "   id  gender height   religion        caste mother_tongue  \\\n",
       "0   1  female   5'4\"        NaN       others        Telugu   \n",
       "1   2    male   5'7\"       Jain   Shwetamber      Gujarati   \n",
       "2   3    male   5'7\"      Hindu      Brahmin         Hindi   \n",
       "3   4  female   5'0\"      Hindu       Thakur         Hindi   \n",
       "4   5    male   5'5\"  Christian   Born Again     Malayalam   \n",
       "\n",
       "                         profession         location          country  \\\n",
       "0                               NaN           London   United Kingdom   \n",
       "1  Doctor / Healthcare Professional      Fairfax- VA              USA   \n",
       "2         Entrepreneurs / Business         Begusarai            India   \n",
       "3                         Architect           Mumbai            India   \n",
       "4    Sales Professional / Marketing  Sulthan Bathery            India   \n",
       "\n",
       "   age_of_marriage  \n",
       "0             21.0  \n",
       "1             32.0  \n",
       "2             32.0  \n",
       "3             30.0  \n",
       "4             30.0  "
      ]
     },
     "execution_count": 6,
     "metadata": {},
     "output_type": "execute_result"
    }
   ],
   "source": [
    "agemrg.head()"
   ]
  },
  {
   "cell_type": "code",
   "execution_count": 7,
   "id": "19be1dba",
   "metadata": {},
   "outputs": [
    {
     "data": {
      "text/html": [
       "<div>\n",
       "<style scoped>\n",
       "    .dataframe tbody tr th:only-of-type {\n",
       "        vertical-align: middle;\n",
       "    }\n",
       "\n",
       "    .dataframe tbody tr th {\n",
       "        vertical-align: top;\n",
       "    }\n",
       "\n",
       "    .dataframe thead th {\n",
       "        text-align: right;\n",
       "    }\n",
       "</style>\n",
       "<table border=\"1\" class=\"dataframe\">\n",
       "  <thead>\n",
       "    <tr style=\"text-align: right;\">\n",
       "      <th></th>\n",
       "      <th>id</th>\n",
       "      <th>gender</th>\n",
       "      <th>height</th>\n",
       "      <th>religion</th>\n",
       "      <th>caste</th>\n",
       "      <th>mother_tongue</th>\n",
       "      <th>profession</th>\n",
       "      <th>location</th>\n",
       "      <th>country</th>\n",
       "      <th>age_of_marriage</th>\n",
       "    </tr>\n",
       "  </thead>\n",
       "  <tbody>\n",
       "    <tr>\n",
       "      <th>2562</th>\n",
       "      <td>2563</td>\n",
       "      <td>female</td>\n",
       "      <td>5'3\"</td>\n",
       "      <td>Hindu</td>\n",
       "      <td>Thakur</td>\n",
       "      <td>Hindi</td>\n",
       "      <td>Banking Professional</td>\n",
       "      <td>Agra</td>\n",
       "      <td>India</td>\n",
       "      <td>27.0</td>\n",
       "    </tr>\n",
       "    <tr>\n",
       "      <th>2563</th>\n",
       "      <td>2564</td>\n",
       "      <td>male</td>\n",
       "      <td>5'11\"</td>\n",
       "      <td>Hindu</td>\n",
       "      <td>Thakur</td>\n",
       "      <td>Hindi</td>\n",
       "      <td>Software Professional</td>\n",
       "      <td>Ottawa</td>\n",
       "      <td>Canada</td>\n",
       "      <td>31.0</td>\n",
       "    </tr>\n",
       "    <tr>\n",
       "      <th>2564</th>\n",
       "      <td>2565</td>\n",
       "      <td>female</td>\n",
       "      <td>5'3\"</td>\n",
       "      <td>Hindu</td>\n",
       "      <td>Baishya</td>\n",
       "      <td>Bengali</td>\n",
       "      <td>Software Consultant</td>\n",
       "      <td>Bengaluru / Bangalore</td>\n",
       "      <td>India</td>\n",
       "      <td>28.0</td>\n",
       "    </tr>\n",
       "    <tr>\n",
       "      <th>2565</th>\n",
       "      <td>2566</td>\n",
       "      <td>female</td>\n",
       "      <td>4'11\"</td>\n",
       "      <td>NaN</td>\n",
       "      <td>others</td>\n",
       "      <td>Telugu</td>\n",
       "      <td>Not working</td>\n",
       "      <td>Hyderabad</td>\n",
       "      <td>India</td>\n",
       "      <td>26.0</td>\n",
       "    </tr>\n",
       "    <tr>\n",
       "      <th>2566</th>\n",
       "      <td>2567</td>\n",
       "      <td>female</td>\n",
       "      <td>5'2\"</td>\n",
       "      <td>Christian</td>\n",
       "      <td>Marthoma</td>\n",
       "      <td>Malayalam</td>\n",
       "      <td>Software Professional</td>\n",
       "      <td>Pune</td>\n",
       "      <td>India</td>\n",
       "      <td>32.0</td>\n",
       "    </tr>\n",
       "  </tbody>\n",
       "</table>\n",
       "</div>"
      ],
      "text/plain": [
       "        id  gender height   religion      caste mother_tongue  \\\n",
       "2562  2563  female   5'3\"      Hindu     Thakur         Hindi   \n",
       "2563  2564    male  5'11\"      Hindu     Thakur         Hindi   \n",
       "2564  2565  female   5'3\"      Hindu    Baishya       Bengali   \n",
       "2565  2566  female  4'11\"        NaN     others        Telugu   \n",
       "2566  2567  female   5'2\"  Christian   Marthoma     Malayalam   \n",
       "\n",
       "                 profession               location  country  age_of_marriage  \n",
       "2562   Banking Professional                   Agra    India             27.0  \n",
       "2563  Software Professional                 Ottawa   Canada             31.0  \n",
       "2564    Software Consultant  Bengaluru / Bangalore    India             28.0  \n",
       "2565            Not working              Hyderabad    India             26.0  \n",
       "2566  Software Professional                   Pune    India             32.0  "
      ]
     },
     "execution_count": 7,
     "metadata": {},
     "output_type": "execute_result"
    }
   ],
   "source": [
    "agemrg.tail()"
   ]
  },
  {
   "cell_type": "code",
   "execution_count": 8,
   "id": "b8f5efdb",
   "metadata": {},
   "outputs": [
    {
     "data": {
      "text/html": [
       "<div>\n",
       "<style scoped>\n",
       "    .dataframe tbody tr th:only-of-type {\n",
       "        vertical-align: middle;\n",
       "    }\n",
       "\n",
       "    .dataframe tbody tr th {\n",
       "        vertical-align: top;\n",
       "    }\n",
       "\n",
       "    .dataframe thead th {\n",
       "        text-align: right;\n",
       "    }\n",
       "</style>\n",
       "<table border=\"1\" class=\"dataframe\">\n",
       "  <thead>\n",
       "    <tr style=\"text-align: right;\">\n",
       "      <th></th>\n",
       "      <th>id</th>\n",
       "      <th>age_of_marriage</th>\n",
       "    </tr>\n",
       "  </thead>\n",
       "  <tbody>\n",
       "    <tr>\n",
       "      <th>count</th>\n",
       "      <td>2567.000000</td>\n",
       "      <td>2548.000000</td>\n",
       "    </tr>\n",
       "    <tr>\n",
       "      <th>mean</th>\n",
       "      <td>1284.000000</td>\n",
       "      <td>29.648352</td>\n",
       "    </tr>\n",
       "    <tr>\n",
       "      <th>std</th>\n",
       "      <td>741.173394</td>\n",
       "      <td>2.802414</td>\n",
       "    </tr>\n",
       "    <tr>\n",
       "      <th>min</th>\n",
       "      <td>1.000000</td>\n",
       "      <td>20.000000</td>\n",
       "    </tr>\n",
       "    <tr>\n",
       "      <th>25%</th>\n",
       "      <td>642.500000</td>\n",
       "      <td>28.000000</td>\n",
       "    </tr>\n",
       "    <tr>\n",
       "      <th>50%</th>\n",
       "      <td>1284.000000</td>\n",
       "      <td>30.000000</td>\n",
       "    </tr>\n",
       "    <tr>\n",
       "      <th>75%</th>\n",
       "      <td>1925.500000</td>\n",
       "      <td>32.000000</td>\n",
       "    </tr>\n",
       "    <tr>\n",
       "      <th>max</th>\n",
       "      <td>2567.000000</td>\n",
       "      <td>36.000000</td>\n",
       "    </tr>\n",
       "  </tbody>\n",
       "</table>\n",
       "</div>"
      ],
      "text/plain": [
       "                id  age_of_marriage\n",
       "count  2567.000000      2548.000000\n",
       "mean   1284.000000        29.648352\n",
       "std     741.173394         2.802414\n",
       "min       1.000000        20.000000\n",
       "25%     642.500000        28.000000\n",
       "50%    1284.000000        30.000000\n",
       "75%    1925.500000        32.000000\n",
       "max    2567.000000        36.000000"
      ]
     },
     "execution_count": 8,
     "metadata": {},
     "output_type": "execute_result"
    }
   ],
   "source": [
    "agemrg.describe()"
   ]
  },
  {
   "cell_type": "code",
   "execution_count": 9,
   "id": "734af6d7",
   "metadata": {},
   "outputs": [
    {
     "name": "stdout",
     "output_type": "stream",
     "text": [
      "<class 'pandas.core.frame.DataFrame'>\n",
      "RangeIndex: 2567 entries, 0 to 2566\n",
      "Data columns (total 10 columns):\n",
      " #   Column           Non-Null Count  Dtype  \n",
      "---  ------           --------------  -----  \n",
      " 0   id               2567 non-null   int64  \n",
      " 1   gender           2538 non-null   object \n",
      " 2   height           2449 non-null   object \n",
      " 3   religion         1932 non-null   object \n",
      " 4   caste            2425 non-null   object \n",
      " 5   mother_tongue    2403 non-null   object \n",
      " 6   profession       2237 non-null   object \n",
      " 7   location         2412 non-null   object \n",
      " 8   country          2551 non-null   object \n",
      " 9   age_of_marriage  2548 non-null   float64\n",
      "dtypes: float64(1), int64(1), object(8)\n",
      "memory usage: 200.7+ KB\n"
     ]
    }
   ],
   "source": [
    "agemrg.info()"
   ]
  },
  {
   "cell_type": "markdown",
   "id": "437e1f58",
   "metadata": {},
   "source": [
    "#### Before moving with filling of missing data we need to first convert some features which are objects into int64 type. \n",
    "#### Let's say we have height in the dataset. The column has a data type of object. This column needs to be converted into int datatype \n",
    "#### so that it can be useful in the further operations.\n",
    "#### 1 foot = 30.48 cm\n",
    "#### 1 inch = 2.48 cm"
   ]
  },
  {
   "cell_type": "markdown",
   "id": "beefb568",
   "metadata": {},
   "source": [
    "# Age of Marriage "
   ]
  },
  {
   "cell_type": "code",
   "execution_count": 10,
   "id": "dcb60038",
   "metadata": {},
   "outputs": [
    {
     "data": {
      "text/plain": [
       "2449"
      ]
     },
     "execution_count": 10,
     "metadata": {},
     "output_type": "execute_result"
    }
   ],
   "source": [
    "agemrg[('height')].count()"
   ]
  },
  {
   "cell_type": "code",
   "execution_count": 11,
   "id": "2247ce99",
   "metadata": {},
   "outputs": [
    {
     "data": {
      "text/plain": [
       "30.0    415\n",
       "29.0    373\n",
       "31.0    311\n",
       "28.0    308\n",
       "32.0    246\n",
       "27.0    217\n",
       "33.0    183\n",
       "26.0    114\n",
       "34.0    107\n",
       "35.0     91\n",
       "25.0     60\n",
       "24.0     50\n",
       "21.0     19\n",
       "22.0     18\n",
       "23.0     16\n",
       "36.0     12\n",
       "20.0      8\n",
       "Name: age_of_marriage, dtype: int64"
      ]
     },
     "execution_count": 11,
     "metadata": {},
     "output_type": "execute_result"
    }
   ],
   "source": [
    "agemrg['age_of_marriage'].value_counts()"
   ]
  },
  {
   "cell_type": "code",
   "execution_count": 12,
   "id": "1e86c71f",
   "metadata": {},
   "outputs": [],
   "source": [
    "age_null = agemrg['age_of_marriage'].isnull().sum()"
   ]
  },
  {
   "cell_type": "code",
   "execution_count": 13,
   "id": "27e19718",
   "metadata": {},
   "outputs": [
    {
     "data": {
      "text/plain": [
       "19"
      ]
     },
     "execution_count": 13,
     "metadata": {},
     "output_type": "execute_result"
    }
   ],
   "source": [
    "age_null"
   ]
  },
  {
   "cell_type": "code",
   "execution_count": 14,
   "id": "c67306e8",
   "metadata": {},
   "outputs": [],
   "source": [
    "avg_age = agemrg['age_of_marriage'].mean()"
   ]
  },
  {
   "cell_type": "code",
   "execution_count": 15,
   "id": "7305e24f",
   "metadata": {},
   "outputs": [],
   "source": [
    "age_null_1 = agemrg[agemrg['age_of_marriage'].isnull()].index.tolist()"
   ]
  },
  {
   "cell_type": "code",
   "execution_count": 16,
   "id": "43c9e1fc",
   "metadata": {},
   "outputs": [],
   "source": [
    "agemrg['age_of_marriage'].iloc[age_null_1] = avg_age"
   ]
  },
  {
   "cell_type": "code",
   "execution_count": 17,
   "id": "facae960",
   "metadata": {},
   "outputs": [
    {
     "data": {
      "text/plain": [
       "id                   0\n",
       "gender              29\n",
       "height             118\n",
       "religion           635\n",
       "caste              142\n",
       "mother_tongue      164\n",
       "profession         330\n",
       "location           155\n",
       "country             16\n",
       "age_of_marriage      0\n",
       "dtype: int64"
      ]
     },
     "execution_count": 17,
     "metadata": {},
     "output_type": "execute_result"
    }
   ],
   "source": [
    "agemrg.isnull().sum()"
   ]
  },
  {
   "cell_type": "code",
   "execution_count": 18,
   "id": "e2f3ab29",
   "metadata": {},
   "outputs": [],
   "source": [
    "avg_gen = agemrg['gender'].unique()"
   ]
  },
  {
   "cell_type": "code",
   "execution_count": 19,
   "id": "9b0b000e",
   "metadata": {},
   "outputs": [
    {
     "data": {
      "text/plain": [
       "array(['female', 'male', nan], dtype=object)"
      ]
     },
     "execution_count": 19,
     "metadata": {},
     "output_type": "execute_result"
    }
   ],
   "source": [
    "avg_gen"
   ]
  },
  {
   "cell_type": "code",
   "execution_count": 20,
   "id": "48f0fd1e",
   "metadata": {},
   "outputs": [
    {
     "data": {
      "text/plain": [
       "Counter({'female': 1200, 'male': 1338, nan: 29})"
      ]
     },
     "execution_count": 20,
     "metadata": {},
     "output_type": "execute_result"
    }
   ],
   "source": [
    "Counter(agemrg['gender'])"
   ]
  },
  {
   "cell_type": "code",
   "execution_count": 21,
   "id": "34a9bc09",
   "metadata": {},
   "outputs": [],
   "source": [
    "un_ctr = agemrg['country'].unique()"
   ]
  },
  {
   "cell_type": "code",
   "execution_count": 22,
   "id": "f4453a85",
   "metadata": {},
   "outputs": [
    {
     "data": {
      "text/plain": [
       "array([' United Kingdom', ' USA', ' India', ' Australia',\n",
       "       ' United Arab Emirates', ' Canada', ' Malaysia', nan,\n",
       "       ' Netherlands', ' Sweden', ' Qatar', ' Pakistan', ' Denmark',\n",
       "       ' New Zealand', ' Myanmar', ' Hong Kong SAR', ' Bangladesh',\n",
       "       ' Italy', ' Kuwait', ' Japan', ' Bahrain', ' Nigeria', ' Ireland',\n",
       "       ' Singapore', ' Armenia', ' Oman', ' Philippines', ' Norway',\n",
       "       ' Germany', ' South Africa'], dtype=object)"
      ]
     },
     "execution_count": 22,
     "metadata": {},
     "output_type": "execute_result"
    }
   ],
   "source": [
    "un_ctr"
   ]
  },
  {
   "cell_type": "code",
   "execution_count": 23,
   "id": "6da00bba",
   "metadata": {},
   "outputs": [
    {
     "data": {
      "text/plain": [
       "id                   0\n",
       "gender              29\n",
       "height             118\n",
       "religion           635\n",
       "caste              142\n",
       "mother_tongue      164\n",
       "profession         330\n",
       "location           155\n",
       "country             16\n",
       "age_of_marriage      0\n",
       "dtype: int64"
      ]
     },
     "execution_count": 23,
     "metadata": {},
     "output_type": "execute_result"
    }
   ],
   "source": [
    "agemrg.isnull().sum()"
   ]
  },
  {
   "cell_type": "code",
   "execution_count": 24,
   "id": "4c984d83",
   "metadata": {},
   "outputs": [
    {
     "data": {
      "text/plain": [
       "male      1338\n",
       "female    1200\n",
       "Name: gender, dtype: int64"
      ]
     },
     "execution_count": 24,
     "metadata": {},
     "output_type": "execute_result"
    }
   ],
   "source": [
    "agemrg['gender'].value_counts()"
   ]
  },
  {
   "cell_type": "markdown",
   "id": "071425d2",
   "metadata": {},
   "source": [
    "#### In gender we have to fill NaN values according to the height of the person. Usually Females average height is less as compared to the average height of Males. We have to fill the Null valeus according to the gender. To fill the Null values, we will calculate the average height of males and average height of females. Then accordingly we will fill the Null values of gender."
   ]
  },
  {
   "cell_type": "code",
   "execution_count": 25,
   "id": "2853ff8d",
   "metadata": {},
   "outputs": [],
   "source": [
    "agemrg['height_feet'] = agemrg['height'].dropna().apply(lambda x: str(x).split(\"'\")[0])"
   ]
  },
  {
   "cell_type": "code",
   "execution_count": 26,
   "id": "d08e4378",
   "metadata": {},
   "outputs": [],
   "source": [
    "agemrg['height_inches'] = agemrg['height'].dropna().apply(lambda x: str(x).split(\"'\")[-1][0:-1])"
   ]
  },
  {
   "cell_type": "code",
   "execution_count": 27,
   "id": "9732778e",
   "metadata": {},
   "outputs": [
    {
     "data": {
      "text/html": [
       "<div>\n",
       "<style scoped>\n",
       "    .dataframe tbody tr th:only-of-type {\n",
       "        vertical-align: middle;\n",
       "    }\n",
       "\n",
       "    .dataframe tbody tr th {\n",
       "        vertical-align: top;\n",
       "    }\n",
       "\n",
       "    .dataframe thead th {\n",
       "        text-align: right;\n",
       "    }\n",
       "</style>\n",
       "<table border=\"1\" class=\"dataframe\">\n",
       "  <thead>\n",
       "    <tr style=\"text-align: right;\">\n",
       "      <th></th>\n",
       "      <th>height</th>\n",
       "      <th>height_feet</th>\n",
       "      <th>height_inches</th>\n",
       "    </tr>\n",
       "  </thead>\n",
       "  <tbody>\n",
       "    <tr>\n",
       "      <th>0</th>\n",
       "      <td>5'4\"</td>\n",
       "      <td>5</td>\n",
       "      <td>4</td>\n",
       "    </tr>\n",
       "    <tr>\n",
       "      <th>1</th>\n",
       "      <td>5'7\"</td>\n",
       "      <td>5</td>\n",
       "      <td>7</td>\n",
       "    </tr>\n",
       "    <tr>\n",
       "      <th>2</th>\n",
       "      <td>5'7\"</td>\n",
       "      <td>5</td>\n",
       "      <td>7</td>\n",
       "    </tr>\n",
       "    <tr>\n",
       "      <th>3</th>\n",
       "      <td>5'0\"</td>\n",
       "      <td>5</td>\n",
       "      <td>0</td>\n",
       "    </tr>\n",
       "    <tr>\n",
       "      <th>4</th>\n",
       "      <td>5'5\"</td>\n",
       "      <td>5</td>\n",
       "      <td>5</td>\n",
       "    </tr>\n",
       "    <tr>\n",
       "      <th>...</th>\n",
       "      <td>...</td>\n",
       "      <td>...</td>\n",
       "      <td>...</td>\n",
       "    </tr>\n",
       "    <tr>\n",
       "      <th>2562</th>\n",
       "      <td>5'3\"</td>\n",
       "      <td>5</td>\n",
       "      <td>3</td>\n",
       "    </tr>\n",
       "    <tr>\n",
       "      <th>2563</th>\n",
       "      <td>5'11\"</td>\n",
       "      <td>5</td>\n",
       "      <td>11</td>\n",
       "    </tr>\n",
       "    <tr>\n",
       "      <th>2564</th>\n",
       "      <td>5'3\"</td>\n",
       "      <td>5</td>\n",
       "      <td>3</td>\n",
       "    </tr>\n",
       "    <tr>\n",
       "      <th>2565</th>\n",
       "      <td>4'11\"</td>\n",
       "      <td>4</td>\n",
       "      <td>11</td>\n",
       "    </tr>\n",
       "    <tr>\n",
       "      <th>2566</th>\n",
       "      <td>5'2\"</td>\n",
       "      <td>5</td>\n",
       "      <td>2</td>\n",
       "    </tr>\n",
       "  </tbody>\n",
       "</table>\n",
       "<p>2567 rows × 3 columns</p>\n",
       "</div>"
      ],
      "text/plain": [
       "     height height_feet height_inches\n",
       "0      5'4\"           5             4\n",
       "1      5'7\"           5             7\n",
       "2      5'7\"           5             7\n",
       "3      5'0\"           5             0\n",
       "4      5'5\"           5             5\n",
       "...     ...         ...           ...\n",
       "2562   5'3\"           5             3\n",
       "2563  5'11\"           5            11\n",
       "2564   5'3\"           5             3\n",
       "2565  4'11\"           4            11\n",
       "2566   5'2\"           5             2\n",
       "\n",
       "[2567 rows x 3 columns]"
      ]
     },
     "execution_count": 27,
     "metadata": {},
     "output_type": "execute_result"
    }
   ],
   "source": [
    "agemrg[['height', 'height_feet', 'height_inches']]"
   ]
  },
  {
   "cell_type": "code",
   "execution_count": 28,
   "id": "05106842",
   "metadata": {},
   "outputs": [
    {
     "name": "stdout",
     "output_type": "stream",
     "text": [
      "<class 'pandas.core.frame.DataFrame'>\n",
      "RangeIndex: 2567 entries, 0 to 2566\n",
      "Data columns (total 12 columns):\n",
      " #   Column           Non-Null Count  Dtype  \n",
      "---  ------           --------------  -----  \n",
      " 0   id               2567 non-null   int64  \n",
      " 1   gender           2538 non-null   object \n",
      " 2   height           2449 non-null   object \n",
      " 3   religion         1932 non-null   object \n",
      " 4   caste            2425 non-null   object \n",
      " 5   mother_tongue    2403 non-null   object \n",
      " 6   profession       2237 non-null   object \n",
      " 7   location         2412 non-null   object \n",
      " 8   country          2551 non-null   object \n",
      " 9   age_of_marriage  2567 non-null   float64\n",
      " 10  height_feet      2449 non-null   object \n",
      " 11  height_inches    2449 non-null   object \n",
      "dtypes: float64(1), int64(1), object(10)\n",
      "memory usage: 240.8+ KB\n"
     ]
    }
   ],
   "source": [
    "agemrg.info()"
   ]
  },
  {
   "cell_type": "code",
   "execution_count": 29,
   "id": "7c6034c1",
   "metadata": {},
   "outputs": [],
   "source": [
    "agemrg['height_feet'] = agemrg['height_feet'].astype(float)"
   ]
  },
  {
   "cell_type": "code",
   "execution_count": 30,
   "id": "53bd0794",
   "metadata": {},
   "outputs": [],
   "source": [
    "agemrg['height_feet'] = agemrg['height_feet'].astype('Int64')"
   ]
  },
  {
   "cell_type": "code",
   "execution_count": 31,
   "id": "818741e8",
   "metadata": {},
   "outputs": [],
   "source": [
    "agemrg['height_inches'] = agemrg['height_inches'].astype(float)"
   ]
  },
  {
   "cell_type": "code",
   "execution_count": 32,
   "id": "0f4af8a8",
   "metadata": {},
   "outputs": [],
   "source": [
    "agemrg['height_inches'] = agemrg['height_inches'].astype('Int64')"
   ]
  },
  {
   "cell_type": "code",
   "execution_count": 33,
   "id": "3dfd51a5",
   "metadata": {},
   "outputs": [
    {
     "name": "stdout",
     "output_type": "stream",
     "text": [
      "<class 'pandas.core.frame.DataFrame'>\n",
      "RangeIndex: 2567 entries, 0 to 2566\n",
      "Data columns (total 12 columns):\n",
      " #   Column           Non-Null Count  Dtype  \n",
      "---  ------           --------------  -----  \n",
      " 0   id               2567 non-null   int64  \n",
      " 1   gender           2538 non-null   object \n",
      " 2   height           2449 non-null   object \n",
      " 3   religion         1932 non-null   object \n",
      " 4   caste            2425 non-null   object \n",
      " 5   mother_tongue    2403 non-null   object \n",
      " 6   profession       2237 non-null   object \n",
      " 7   location         2412 non-null   object \n",
      " 8   country          2551 non-null   object \n",
      " 9   age_of_marriage  2567 non-null   float64\n",
      " 10  height_feet      2449 non-null   Int64  \n",
      " 11  height_inches    2449 non-null   Int64  \n",
      "dtypes: Int64(2), float64(1), int64(1), object(8)\n",
      "memory usage: 245.8+ KB\n"
     ]
    }
   ],
   "source": [
    "agemrg.info()"
   ]
  },
  {
   "cell_type": "code",
   "execution_count": 34,
   "id": "c729f44f",
   "metadata": {},
   "outputs": [],
   "source": [
    "agemrg['height_cms'] = (agemrg['height_feet'] * 30.48) + (agemrg['height_inches'] * 2.48)"
   ]
  },
  {
   "cell_type": "code",
   "execution_count": 35,
   "id": "f075dca8",
   "metadata": {},
   "outputs": [
    {
     "data": {
      "text/html": [
       "<div>\n",
       "<style scoped>\n",
       "    .dataframe tbody tr th:only-of-type {\n",
       "        vertical-align: middle;\n",
       "    }\n",
       "\n",
       "    .dataframe tbody tr th {\n",
       "        vertical-align: top;\n",
       "    }\n",
       "\n",
       "    .dataframe thead th {\n",
       "        text-align: right;\n",
       "    }\n",
       "</style>\n",
       "<table border=\"1\" class=\"dataframe\">\n",
       "  <thead>\n",
       "    <tr style=\"text-align: right;\">\n",
       "      <th></th>\n",
       "      <th>id</th>\n",
       "      <th>gender</th>\n",
       "      <th>height</th>\n",
       "      <th>religion</th>\n",
       "      <th>caste</th>\n",
       "      <th>mother_tongue</th>\n",
       "      <th>profession</th>\n",
       "      <th>location</th>\n",
       "      <th>country</th>\n",
       "      <th>age_of_marriage</th>\n",
       "      <th>height_feet</th>\n",
       "      <th>height_inches</th>\n",
       "      <th>height_cms</th>\n",
       "    </tr>\n",
       "  </thead>\n",
       "  <tbody>\n",
       "    <tr>\n",
       "      <th>0</th>\n",
       "      <td>1</td>\n",
       "      <td>female</td>\n",
       "      <td>5'4\"</td>\n",
       "      <td>NaN</td>\n",
       "      <td>others</td>\n",
       "      <td>Telugu</td>\n",
       "      <td>NaN</td>\n",
       "      <td>London</td>\n",
       "      <td>United Kingdom</td>\n",
       "      <td>21.0</td>\n",
       "      <td>5</td>\n",
       "      <td>4</td>\n",
       "      <td>162.32</td>\n",
       "    </tr>\n",
       "    <tr>\n",
       "      <th>1</th>\n",
       "      <td>2</td>\n",
       "      <td>male</td>\n",
       "      <td>5'7\"</td>\n",
       "      <td>Jain</td>\n",
       "      <td>Shwetamber</td>\n",
       "      <td>Gujarati</td>\n",
       "      <td>Doctor / Healthcare Professional</td>\n",
       "      <td>Fairfax- VA</td>\n",
       "      <td>USA</td>\n",
       "      <td>32.0</td>\n",
       "      <td>5</td>\n",
       "      <td>7</td>\n",
       "      <td>169.76</td>\n",
       "    </tr>\n",
       "    <tr>\n",
       "      <th>2</th>\n",
       "      <td>3</td>\n",
       "      <td>male</td>\n",
       "      <td>5'7\"</td>\n",
       "      <td>Hindu</td>\n",
       "      <td>Brahmin</td>\n",
       "      <td>Hindi</td>\n",
       "      <td>Entrepreneurs / Business</td>\n",
       "      <td>Begusarai</td>\n",
       "      <td>India</td>\n",
       "      <td>32.0</td>\n",
       "      <td>5</td>\n",
       "      <td>7</td>\n",
       "      <td>169.76</td>\n",
       "    </tr>\n",
       "    <tr>\n",
       "      <th>3</th>\n",
       "      <td>4</td>\n",
       "      <td>female</td>\n",
       "      <td>5'0\"</td>\n",
       "      <td>Hindu</td>\n",
       "      <td>Thakur</td>\n",
       "      <td>Hindi</td>\n",
       "      <td>Architect</td>\n",
       "      <td>Mumbai</td>\n",
       "      <td>India</td>\n",
       "      <td>30.0</td>\n",
       "      <td>5</td>\n",
       "      <td>0</td>\n",
       "      <td>152.4</td>\n",
       "    </tr>\n",
       "    <tr>\n",
       "      <th>4</th>\n",
       "      <td>5</td>\n",
       "      <td>male</td>\n",
       "      <td>5'5\"</td>\n",
       "      <td>Christian</td>\n",
       "      <td>Born Again</td>\n",
       "      <td>Malayalam</td>\n",
       "      <td>Sales Professional / Marketing</td>\n",
       "      <td>Sulthan Bathery</td>\n",
       "      <td>India</td>\n",
       "      <td>30.0</td>\n",
       "      <td>5</td>\n",
       "      <td>5</td>\n",
       "      <td>164.8</td>\n",
       "    </tr>\n",
       "  </tbody>\n",
       "</table>\n",
       "</div>"
      ],
      "text/plain": [
       "   id  gender height   religion        caste mother_tongue  \\\n",
       "0   1  female   5'4\"        NaN       others        Telugu   \n",
       "1   2    male   5'7\"       Jain   Shwetamber      Gujarati   \n",
       "2   3    male   5'7\"      Hindu      Brahmin         Hindi   \n",
       "3   4  female   5'0\"      Hindu       Thakur         Hindi   \n",
       "4   5    male   5'5\"  Christian   Born Again     Malayalam   \n",
       "\n",
       "                         profession         location          country  \\\n",
       "0                               NaN           London   United Kingdom   \n",
       "1  Doctor / Healthcare Professional      Fairfax- VA              USA   \n",
       "2         Entrepreneurs / Business         Begusarai            India   \n",
       "3                         Architect           Mumbai            India   \n",
       "4    Sales Professional / Marketing  Sulthan Bathery            India   \n",
       "\n",
       "   age_of_marriage  height_feet  height_inches  height_cms  \n",
       "0             21.0            5              4      162.32  \n",
       "1             32.0            5              7      169.76  \n",
       "2             32.0            5              7      169.76  \n",
       "3             30.0            5              0       152.4  \n",
       "4             30.0            5              5       164.8  "
      ]
     },
     "execution_count": 35,
     "metadata": {},
     "output_type": "execute_result"
    }
   ],
   "source": [
    "agemrg.head()"
   ]
  },
  {
   "cell_type": "code",
   "execution_count": 36,
   "id": "4e6afee3",
   "metadata": {},
   "outputs": [
    {
     "name": "stdout",
     "output_type": "stream",
     "text": [
      "<class 'pandas.core.frame.DataFrame'>\n",
      "RangeIndex: 2567 entries, 0 to 2566\n",
      "Data columns (total 13 columns):\n",
      " #   Column           Non-Null Count  Dtype  \n",
      "---  ------           --------------  -----  \n",
      " 0   id               2567 non-null   int64  \n",
      " 1   gender           2538 non-null   object \n",
      " 2   height           2449 non-null   object \n",
      " 3   religion         1932 non-null   object \n",
      " 4   caste            2425 non-null   object \n",
      " 5   mother_tongue    2403 non-null   object \n",
      " 6   profession       2237 non-null   object \n",
      " 7   location         2412 non-null   object \n",
      " 8   country          2551 non-null   object \n",
      " 9   age_of_marriage  2567 non-null   float64\n",
      " 10  height_feet      2449 non-null   Int64  \n",
      " 11  height_inches    2449 non-null   Int64  \n",
      " 12  height_cms       2449 non-null   Float64\n",
      "dtypes: Float64(1), Int64(2), float64(1), int64(1), object(8)\n",
      "memory usage: 268.4+ KB\n"
     ]
    }
   ],
   "source": [
    "agemrg.info()"
   ]
  },
  {
   "cell_type": "code",
   "execution_count": 37,
   "id": "e3db2cb2",
   "metadata": {},
   "outputs": [
    {
     "data": {
      "text/plain": [
       "id                   0\n",
       "gender              29\n",
       "height             118\n",
       "religion           635\n",
       "caste              142\n",
       "mother_tongue      164\n",
       "profession         330\n",
       "location           155\n",
       "country             16\n",
       "age_of_marriage      0\n",
       "height_feet        118\n",
       "height_inches      118\n",
       "height_cms         118\n",
       "dtype: int64"
      ]
     },
     "execution_count": 37,
     "metadata": {},
     "output_type": "execute_result"
    }
   ],
   "source": [
    "agemrg.isnull().sum()"
   ]
  },
  {
   "cell_type": "code",
   "execution_count": 38,
   "id": "391a55dc",
   "metadata": {},
   "outputs": [
    {
     "data": {
      "text/plain": [
       "164.04429563086984"
      ]
     },
     "execution_count": 38,
     "metadata": {},
     "output_type": "execute_result"
    }
   ],
   "source": [
    "agemrg['height_cms'].mean()"
   ]
  },
  {
   "cell_type": "code",
   "execution_count": 39,
   "id": "51fb0a7d",
   "metadata": {},
   "outputs": [
    {
     "data": {
      "text/plain": [
       "0    159.84\n",
       "1    167.28\n",
       "dtype: Float64"
      ]
     },
     "execution_count": 39,
     "metadata": {},
     "output_type": "execute_result"
    }
   ],
   "source": [
    "agemrg['height_cms'].mode()"
   ]
  },
  {
   "cell_type": "code",
   "execution_count": 40,
   "id": "144cfd5d",
   "metadata": {},
   "outputs": [
    {
     "data": {
      "text/plain": [
       "164.8"
      ]
     },
     "execution_count": 40,
     "metadata": {},
     "output_type": "execute_result"
    }
   ],
   "source": [
    "agemrg['height_cms'].median()"
   ]
  },
  {
   "cell_type": "code",
   "execution_count": 41,
   "id": "f1083256",
   "metadata": {},
   "outputs": [],
   "source": [
    "#def null_imputer(data):\n",
    "    #data_mean = data.mean()\n",
    "    #return data_mean\n",
    "    #data_null = data.isnull().index.tolist()\n",
    "    #data.iloc[data_null] = data_mean"
   ]
  },
  {
   "cell_type": "code",
   "execution_count": 42,
   "id": "ee8a7cb3",
   "metadata": {},
   "outputs": [
    {
     "data": {
      "text/html": [
       "<div>\n",
       "<style scoped>\n",
       "    .dataframe tbody tr th:only-of-type {\n",
       "        vertical-align: middle;\n",
       "    }\n",
       "\n",
       "    .dataframe tbody tr th {\n",
       "        vertical-align: top;\n",
       "    }\n",
       "\n",
       "    .dataframe thead th {\n",
       "        text-align: right;\n",
       "    }\n",
       "</style>\n",
       "<table border=\"1\" class=\"dataframe\">\n",
       "  <thead>\n",
       "    <tr style=\"text-align: right;\">\n",
       "      <th></th>\n",
       "      <th>id</th>\n",
       "      <th>gender</th>\n",
       "      <th>height</th>\n",
       "      <th>religion</th>\n",
       "      <th>caste</th>\n",
       "      <th>mother_tongue</th>\n",
       "      <th>profession</th>\n",
       "      <th>location</th>\n",
       "      <th>country</th>\n",
       "      <th>age_of_marriage</th>\n",
       "      <th>height_feet</th>\n",
       "      <th>height_inches</th>\n",
       "      <th>height_cms</th>\n",
       "    </tr>\n",
       "  </thead>\n",
       "  <tbody>\n",
       "    <tr>\n",
       "      <th>0</th>\n",
       "      <td>1</td>\n",
       "      <td>female</td>\n",
       "      <td>5'4\"</td>\n",
       "      <td>NaN</td>\n",
       "      <td>others</td>\n",
       "      <td>Telugu</td>\n",
       "      <td>NaN</td>\n",
       "      <td>London</td>\n",
       "      <td>United Kingdom</td>\n",
       "      <td>21.0</td>\n",
       "      <td>5</td>\n",
       "      <td>4</td>\n",
       "      <td>162.32</td>\n",
       "    </tr>\n",
       "    <tr>\n",
       "      <th>1</th>\n",
       "      <td>2</td>\n",
       "      <td>male</td>\n",
       "      <td>5'7\"</td>\n",
       "      <td>Jain</td>\n",
       "      <td>Shwetamber</td>\n",
       "      <td>Gujarati</td>\n",
       "      <td>Doctor / Healthcare Professional</td>\n",
       "      <td>Fairfax- VA</td>\n",
       "      <td>USA</td>\n",
       "      <td>32.0</td>\n",
       "      <td>5</td>\n",
       "      <td>7</td>\n",
       "      <td>169.76</td>\n",
       "    </tr>\n",
       "    <tr>\n",
       "      <th>2</th>\n",
       "      <td>3</td>\n",
       "      <td>male</td>\n",
       "      <td>5'7\"</td>\n",
       "      <td>Hindu</td>\n",
       "      <td>Brahmin</td>\n",
       "      <td>Hindi</td>\n",
       "      <td>Entrepreneurs / Business</td>\n",
       "      <td>Begusarai</td>\n",
       "      <td>India</td>\n",
       "      <td>32.0</td>\n",
       "      <td>5</td>\n",
       "      <td>7</td>\n",
       "      <td>169.76</td>\n",
       "    </tr>\n",
       "    <tr>\n",
       "      <th>3</th>\n",
       "      <td>4</td>\n",
       "      <td>female</td>\n",
       "      <td>5'0\"</td>\n",
       "      <td>Hindu</td>\n",
       "      <td>Thakur</td>\n",
       "      <td>Hindi</td>\n",
       "      <td>Architect</td>\n",
       "      <td>Mumbai</td>\n",
       "      <td>India</td>\n",
       "      <td>30.0</td>\n",
       "      <td>5</td>\n",
       "      <td>0</td>\n",
       "      <td>152.4</td>\n",
       "    </tr>\n",
       "    <tr>\n",
       "      <th>4</th>\n",
       "      <td>5</td>\n",
       "      <td>male</td>\n",
       "      <td>5'5\"</td>\n",
       "      <td>Christian</td>\n",
       "      <td>Born Again</td>\n",
       "      <td>Malayalam</td>\n",
       "      <td>Sales Professional / Marketing</td>\n",
       "      <td>Sulthan Bathery</td>\n",
       "      <td>India</td>\n",
       "      <td>30.0</td>\n",
       "      <td>5</td>\n",
       "      <td>5</td>\n",
       "      <td>164.8</td>\n",
       "    </tr>\n",
       "  </tbody>\n",
       "</table>\n",
       "</div>"
      ],
      "text/plain": [
       "   id  gender height   religion        caste mother_tongue  \\\n",
       "0   1  female   5'4\"        NaN       others        Telugu   \n",
       "1   2    male   5'7\"       Jain   Shwetamber      Gujarati   \n",
       "2   3    male   5'7\"      Hindu      Brahmin         Hindi   \n",
       "3   4  female   5'0\"      Hindu       Thakur         Hindi   \n",
       "4   5    male   5'5\"  Christian   Born Again     Malayalam   \n",
       "\n",
       "                         profession         location          country  \\\n",
       "0                               NaN           London   United Kingdom   \n",
       "1  Doctor / Healthcare Professional      Fairfax- VA              USA   \n",
       "2         Entrepreneurs / Business         Begusarai            India   \n",
       "3                         Architect           Mumbai            India   \n",
       "4    Sales Professional / Marketing  Sulthan Bathery            India   \n",
       "\n",
       "   age_of_marriage  height_feet  height_inches  height_cms  \n",
       "0             21.0            5              4      162.32  \n",
       "1             32.0            5              7      169.76  \n",
       "2             32.0            5              7      169.76  \n",
       "3             30.0            5              0       152.4  \n",
       "4             30.0            5              5       164.8  "
      ]
     },
     "execution_count": 42,
     "metadata": {},
     "output_type": "execute_result"
    }
   ],
   "source": [
    "agemrg.head()"
   ]
  },
  {
   "cell_type": "markdown",
   "id": "9afe5429",
   "metadata": {},
   "source": [
    "### We dont need height column now, so we intent to drop it. "
   ]
  },
  {
   "cell_type": "code",
   "execution_count": 44,
   "id": "1cb35c43",
   "metadata": {},
   "outputs": [
    {
     "data": {
      "text/plain": [
       "3        Hindu\n",
       "4    Christian\n",
       "Name: religion, dtype: object"
      ]
     },
     "execution_count": 44,
     "metadata": {},
     "output_type": "execute_result"
    }
   ],
   "source": [
    "agemrg.iloc[3:5, 3] #iloc[row:column]"
   ]
  },
  {
   "cell_type": "markdown",
   "id": "ae2bf334",
   "metadata": {},
   "source": [
    "### dropping mother tongue, country, height, id, height_feet, height_inches"
   ]
  },
  {
   "cell_type": "code",
   "execution_count": 46,
   "id": "c79ecc76",
   "metadata": {},
   "outputs": [],
   "source": [
    "new_agemrg = agemrg.drop(['height','mother_tongue','country','id','height_feet','height_inches'], axis=1)"
   ]
  },
  {
   "cell_type": "code",
   "execution_count": 47,
   "id": "375334e7",
   "metadata": {},
   "outputs": [
    {
     "data": {
      "text/html": [
       "<div>\n",
       "<style scoped>\n",
       "    .dataframe tbody tr th:only-of-type {\n",
       "        vertical-align: middle;\n",
       "    }\n",
       "\n",
       "    .dataframe tbody tr th {\n",
       "        vertical-align: top;\n",
       "    }\n",
       "\n",
       "    .dataframe thead th {\n",
       "        text-align: right;\n",
       "    }\n",
       "</style>\n",
       "<table border=\"1\" class=\"dataframe\">\n",
       "  <thead>\n",
       "    <tr style=\"text-align: right;\">\n",
       "      <th></th>\n",
       "      <th>gender</th>\n",
       "      <th>religion</th>\n",
       "      <th>caste</th>\n",
       "      <th>profession</th>\n",
       "      <th>location</th>\n",
       "      <th>age_of_marriage</th>\n",
       "      <th>height_cms</th>\n",
       "    </tr>\n",
       "  </thead>\n",
       "  <tbody>\n",
       "    <tr>\n",
       "      <th>0</th>\n",
       "      <td>female</td>\n",
       "      <td>NaN</td>\n",
       "      <td>others</td>\n",
       "      <td>NaN</td>\n",
       "      <td>London</td>\n",
       "      <td>21.0</td>\n",
       "      <td>162.32</td>\n",
       "    </tr>\n",
       "    <tr>\n",
       "      <th>1</th>\n",
       "      <td>male</td>\n",
       "      <td>Jain</td>\n",
       "      <td>Shwetamber</td>\n",
       "      <td>Doctor / Healthcare Professional</td>\n",
       "      <td>Fairfax- VA</td>\n",
       "      <td>32.0</td>\n",
       "      <td>169.76</td>\n",
       "    </tr>\n",
       "    <tr>\n",
       "      <th>2</th>\n",
       "      <td>male</td>\n",
       "      <td>Hindu</td>\n",
       "      <td>Brahmin</td>\n",
       "      <td>Entrepreneurs / Business</td>\n",
       "      <td>Begusarai</td>\n",
       "      <td>32.0</td>\n",
       "      <td>169.76</td>\n",
       "    </tr>\n",
       "    <tr>\n",
       "      <th>3</th>\n",
       "      <td>female</td>\n",
       "      <td>Hindu</td>\n",
       "      <td>Thakur</td>\n",
       "      <td>Architect</td>\n",
       "      <td>Mumbai</td>\n",
       "      <td>30.0</td>\n",
       "      <td>152.4</td>\n",
       "    </tr>\n",
       "    <tr>\n",
       "      <th>4</th>\n",
       "      <td>male</td>\n",
       "      <td>Christian</td>\n",
       "      <td>Born Again</td>\n",
       "      <td>Sales Professional / Marketing</td>\n",
       "      <td>Sulthan Bathery</td>\n",
       "      <td>30.0</td>\n",
       "      <td>164.8</td>\n",
       "    </tr>\n",
       "    <tr>\n",
       "      <th>...</th>\n",
       "      <td>...</td>\n",
       "      <td>...</td>\n",
       "      <td>...</td>\n",
       "      <td>...</td>\n",
       "      <td>...</td>\n",
       "      <td>...</td>\n",
       "      <td>...</td>\n",
       "    </tr>\n",
       "    <tr>\n",
       "      <th>2562</th>\n",
       "      <td>female</td>\n",
       "      <td>Hindu</td>\n",
       "      <td>Thakur</td>\n",
       "      <td>Banking Professional</td>\n",
       "      <td>Agra</td>\n",
       "      <td>27.0</td>\n",
       "      <td>159.84</td>\n",
       "    </tr>\n",
       "    <tr>\n",
       "      <th>2563</th>\n",
       "      <td>male</td>\n",
       "      <td>Hindu</td>\n",
       "      <td>Thakur</td>\n",
       "      <td>Software Professional</td>\n",
       "      <td>Ottawa</td>\n",
       "      <td>31.0</td>\n",
       "      <td>179.68</td>\n",
       "    </tr>\n",
       "    <tr>\n",
       "      <th>2564</th>\n",
       "      <td>female</td>\n",
       "      <td>Hindu</td>\n",
       "      <td>Baishya</td>\n",
       "      <td>Software Consultant</td>\n",
       "      <td>Bengaluru / Bangalore</td>\n",
       "      <td>28.0</td>\n",
       "      <td>159.84</td>\n",
       "    </tr>\n",
       "    <tr>\n",
       "      <th>2565</th>\n",
       "      <td>female</td>\n",
       "      <td>NaN</td>\n",
       "      <td>others</td>\n",
       "      <td>Not working</td>\n",
       "      <td>Hyderabad</td>\n",
       "      <td>26.0</td>\n",
       "      <td>149.2</td>\n",
       "    </tr>\n",
       "    <tr>\n",
       "      <th>2566</th>\n",
       "      <td>female</td>\n",
       "      <td>Christian</td>\n",
       "      <td>Marthoma</td>\n",
       "      <td>Software Professional</td>\n",
       "      <td>Pune</td>\n",
       "      <td>32.0</td>\n",
       "      <td>157.36</td>\n",
       "    </tr>\n",
       "  </tbody>\n",
       "</table>\n",
       "<p>2567 rows × 7 columns</p>\n",
       "</div>"
      ],
      "text/plain": [
       "      gender   religion        caste                        profession  \\\n",
       "0     female        NaN       others                               NaN   \n",
       "1       male       Jain   Shwetamber  Doctor / Healthcare Professional   \n",
       "2       male      Hindu      Brahmin         Entrepreneurs / Business    \n",
       "3     female      Hindu       Thakur                         Architect   \n",
       "4       male  Christian   Born Again    Sales Professional / Marketing   \n",
       "...      ...        ...          ...                               ...   \n",
       "2562  female      Hindu       Thakur              Banking Professional   \n",
       "2563    male      Hindu       Thakur             Software Professional   \n",
       "2564  female      Hindu      Baishya               Software Consultant   \n",
       "2565  female        NaN       others                       Not working   \n",
       "2566  female  Christian     Marthoma             Software Professional   \n",
       "\n",
       "                   location  age_of_marriage  height_cms  \n",
       "0                    London             21.0      162.32  \n",
       "1               Fairfax- VA             32.0      169.76  \n",
       "2                 Begusarai             32.0      169.76  \n",
       "3                    Mumbai             30.0       152.4  \n",
       "4           Sulthan Bathery             30.0       164.8  \n",
       "...                     ...              ...         ...  \n",
       "2562                   Agra             27.0      159.84  \n",
       "2563                 Ottawa             31.0      179.68  \n",
       "2564  Bengaluru / Bangalore             28.0      159.84  \n",
       "2565              Hyderabad             26.0       149.2  \n",
       "2566                   Pune             32.0      157.36  \n",
       "\n",
       "[2567 rows x 7 columns]"
      ]
     },
     "execution_count": 47,
     "metadata": {},
     "output_type": "execute_result"
    }
   ],
   "source": [
    "new_agemrg"
   ]
  },
  {
   "cell_type": "code",
   "execution_count": 48,
   "id": "9e290613",
   "metadata": {},
   "outputs": [
    {
     "data": {
      "text/plain": [
       "gender              29\n",
       "religion           635\n",
       "caste              142\n",
       "profession         330\n",
       "location           155\n",
       "age_of_marriage      0\n",
       "height_cms         118\n",
       "dtype: int64"
      ]
     },
     "execution_count": 48,
     "metadata": {},
     "output_type": "execute_result"
    }
   ],
   "source": [
    "new_agemrg.isnull().sum()"
   ]
  },
  {
   "cell_type": "code",
   "execution_count": 49,
   "id": "a3913ec9",
   "metadata": {},
   "outputs": [
    {
     "data": {
      "text/plain": [
       "164.04429563086984"
      ]
     },
     "execution_count": 49,
     "metadata": {},
     "output_type": "execute_result"
    }
   ],
   "source": [
    "new_agemrg['height_cms'].mean()"
   ]
  },
  {
   "cell_type": "code",
   "execution_count": 50,
   "id": "54f7fbfa",
   "metadata": {},
   "outputs": [
    {
     "data": {
      "text/html": [
       "<div>\n",
       "<style scoped>\n",
       "    .dataframe tbody tr th:only-of-type {\n",
       "        vertical-align: middle;\n",
       "    }\n",
       "\n",
       "    .dataframe tbody tr th {\n",
       "        vertical-align: top;\n",
       "    }\n",
       "\n",
       "    .dataframe thead th {\n",
       "        text-align: right;\n",
       "    }\n",
       "</style>\n",
       "<table border=\"1\" class=\"dataframe\">\n",
       "  <thead>\n",
       "    <tr style=\"text-align: right;\">\n",
       "      <th></th>\n",
       "      <th>height_cms</th>\n",
       "      <th>gender</th>\n",
       "    </tr>\n",
       "  </thead>\n",
       "  <tbody>\n",
       "    <tr>\n",
       "      <th>0</th>\n",
       "      <td>162.32</td>\n",
       "      <td>female</td>\n",
       "    </tr>\n",
       "    <tr>\n",
       "      <th>1</th>\n",
       "      <td>169.76</td>\n",
       "      <td>male</td>\n",
       "    </tr>\n",
       "    <tr>\n",
       "      <th>2</th>\n",
       "      <td>169.76</td>\n",
       "      <td>male</td>\n",
       "    </tr>\n",
       "    <tr>\n",
       "      <th>3</th>\n",
       "      <td>152.4</td>\n",
       "      <td>female</td>\n",
       "    </tr>\n",
       "    <tr>\n",
       "      <th>4</th>\n",
       "      <td>164.8</td>\n",
       "      <td>male</td>\n",
       "    </tr>\n",
       "    <tr>\n",
       "      <th>...</th>\n",
       "      <td>...</td>\n",
       "      <td>...</td>\n",
       "    </tr>\n",
       "    <tr>\n",
       "      <th>2562</th>\n",
       "      <td>159.84</td>\n",
       "      <td>female</td>\n",
       "    </tr>\n",
       "    <tr>\n",
       "      <th>2563</th>\n",
       "      <td>179.68</td>\n",
       "      <td>male</td>\n",
       "    </tr>\n",
       "    <tr>\n",
       "      <th>2564</th>\n",
       "      <td>159.84</td>\n",
       "      <td>female</td>\n",
       "    </tr>\n",
       "    <tr>\n",
       "      <th>2565</th>\n",
       "      <td>149.2</td>\n",
       "      <td>female</td>\n",
       "    </tr>\n",
       "    <tr>\n",
       "      <th>2566</th>\n",
       "      <td>157.36</td>\n",
       "      <td>female</td>\n",
       "    </tr>\n",
       "  </tbody>\n",
       "</table>\n",
       "<p>2567 rows × 2 columns</p>\n",
       "</div>"
      ],
      "text/plain": [
       "      height_cms  gender\n",
       "0         162.32  female\n",
       "1         169.76    male\n",
       "2         169.76    male\n",
       "3          152.4  female\n",
       "4          164.8    male\n",
       "...          ...     ...\n",
       "2562      159.84  female\n",
       "2563      179.68    male\n",
       "2564      159.84  female\n",
       "2565       149.2  female\n",
       "2566      157.36  female\n",
       "\n",
       "[2567 rows x 2 columns]"
      ]
     },
     "execution_count": 50,
     "metadata": {},
     "output_type": "execute_result"
    }
   ],
   "source": [
    "new_agemrg[['height_cms','gender']]"
   ]
  },
  {
   "cell_type": "code",
   "execution_count": 51,
   "id": "2f752f02",
   "metadata": {},
   "outputs": [
    {
     "data": {
      "text/html": [
       "<div>\n",
       "<style scoped>\n",
       "    .dataframe tbody tr th:only-of-type {\n",
       "        vertical-align: middle;\n",
       "    }\n",
       "\n",
       "    .dataframe tbody tr th {\n",
       "        vertical-align: top;\n",
       "    }\n",
       "\n",
       "    .dataframe thead th {\n",
       "        text-align: right;\n",
       "    }\n",
       "</style>\n",
       "<table border=\"1\" class=\"dataframe\">\n",
       "  <thead>\n",
       "    <tr style=\"text-align: right;\">\n",
       "      <th></th>\n",
       "      <th>age_of_marriage</th>\n",
       "      <th>height_cms</th>\n",
       "    </tr>\n",
       "    <tr>\n",
       "      <th>gender</th>\n",
       "      <th></th>\n",
       "      <th></th>\n",
       "    </tr>\n",
       "  </thead>\n",
       "  <tbody>\n",
       "    <tr>\n",
       "      <th>female</th>\n",
       "      <td>29.158736</td>\n",
       "      <td>158.427814</td>\n",
       "    </tr>\n",
       "    <tr>\n",
       "      <th>male</th>\n",
       "      <td>30.173270</td>\n",
       "      <td>169.247287</td>\n",
       "    </tr>\n",
       "  </tbody>\n",
       "</table>\n",
       "</div>"
      ],
      "text/plain": [
       "        age_of_marriage  height_cms\n",
       "gender                             \n",
       "female        29.158736  158.427814\n",
       "male          30.173270  169.247287"
      ]
     },
     "execution_count": 51,
     "metadata": {},
     "output_type": "execute_result"
    }
   ],
   "source": [
    "new_agemrg.groupby('gender').mean()"
   ]
  },
  {
   "cell_type": "code",
   "execution_count": 52,
   "id": "fa9f2bcb",
   "metadata": {},
   "outputs": [
    {
     "data": {
      "text/plain": [
       "male      1338\n",
       "female    1200\n",
       "Name: gender, dtype: int64"
      ]
     },
     "execution_count": 52,
     "metadata": {},
     "output_type": "execute_result"
    }
   ],
   "source": [
    "new_agemrg['gender'].value_counts()"
   ]
  },
  {
   "cell_type": "code",
   "execution_count": 53,
   "id": "6812b33b",
   "metadata": {},
   "outputs": [],
   "source": [
    "new_agemrg['height_cms'] = new_agemrg['height_cms'].fillna(new_agemrg.groupby('gender')['height_cms'].transform('mean'))"
   ]
  },
  {
   "cell_type": "code",
   "execution_count": 54,
   "id": "c61377f6",
   "metadata": {},
   "outputs": [],
   "source": [
    "height_null = new_agemrg[new_agemrg['height_cms'].isnull()].index.tolist()"
   ]
  },
  {
   "cell_type": "code",
   "execution_count": 55,
   "id": "29b9e7af",
   "metadata": {},
   "outputs": [],
   "source": [
    "new_agemrg['height_cms'].iloc[height_null] = 162.85"
   ]
  },
  {
   "cell_type": "code",
   "execution_count": 56,
   "id": "6ac2640b",
   "metadata": {},
   "outputs": [
    {
     "data": {
      "text/plain": [
       "Hindu        1576\n",
       "Sikh          150\n",
       "Christian     120\n",
       "Jain           46\n",
       "Muslim         40\n",
       "Name: religion, dtype: int64"
      ]
     },
     "execution_count": 56,
     "metadata": {},
     "output_type": "execute_result"
    }
   ],
   "source": [
    "new_agemrg['religion'].value_counts()"
   ]
  },
  {
   "cell_type": "code",
   "execution_count": 57,
   "id": "71f2cb3c",
   "metadata": {},
   "outputs": [
    {
     "data": {
      "text/plain": [
       "others                   493\n",
       " Brahmin                 252\n",
       " Kshatriya                70\n",
       " Lingayath                65\n",
       " Agarwal                  53\n",
       " Shwetamber               46\n",
       " Patel                    42\n",
       " Baniya                   41\n",
       " Bhandari                 41\n",
       " Arora                    41\n",
       " Vaishnav                 41\n",
       " Khatri                   40\n",
       " Scheduled Caste (SC)     40\n",
       " Thakur                   40\n",
       " Ramdasia                 40\n",
       " Valmiki                  40\n",
       " OBC - Barber/Naayee      40\n",
       " Sindhi-Sakkhar           40\n",
       " Goud                     40\n",
       " Balija                   40\n",
       " Kayastha                 40\n",
       " Gursikh                  40\n",
       " Arya Vysya               40\n",
       " Viswabrahmin             40\n",
       " Baidya                   40\n",
       " Kaibarta                 40\n",
       " Baishnab                 40\n",
       " Bhatia                   40\n",
       " Billava                  40\n",
       " Vanniyar                 40\n",
       " Agri                     40\n",
       " Marthoma                 40\n",
       " Ahom                     40\n",
       " Roman Catholic           40\n",
       " Rajput - Lodhi           40\n",
       " Born Again               40\n",
       " Kalita                   40\n",
       " Sahu                     40\n",
       " Baishya                  40\n",
       " Memon                    40\n",
       " Panchal                  40\n",
       " Saini                    40\n",
       "Name: caste, dtype: int64"
      ]
     },
     "execution_count": 57,
     "metadata": {},
     "output_type": "execute_result"
    }
   ],
   "source": [
    "new_agemrg['caste'].value_counts()"
   ]
  },
  {
   "cell_type": "code",
   "execution_count": 71,
   "id": "721d472d",
   "metadata": {},
   "outputs": [],
   "source": [
    "new_agemrg = new_agemrg.dropna(subset=['gender'])"
   ]
  },
  {
   "cell_type": "code",
   "execution_count": 70,
   "id": "e310343d",
   "metadata": {},
   "outputs": [
    {
     "data": {
      "text/plain": [
       "gender               0\n",
       "religion           606\n",
       "caste              142\n",
       "profession         316\n",
       "location           153\n",
       "age_of_marriage      0\n",
       "height_cms           0\n",
       "dtype: int64"
      ]
     },
     "execution_count": 70,
     "metadata": {},
     "output_type": "execute_result"
    }
   ],
   "source": [
    "new_agemrg.isnull().sum()"
   ]
  },
  {
   "cell_type": "markdown",
   "id": "25184127",
   "metadata": {},
   "source": [
    "### Here, we can see that the there are two columns which are Caste and Religion. So, if we know the caste of the person, then we can also know about his caste. Mostly in marriages people tend to look at the caste of the Bride or Groom, rather than religion because of the above reason. So we can drop the Religion columns and move ahead with caste column."
   ]
  },
  {
   "cell_type": "code",
   "execution_count": 72,
   "id": "27680224",
   "metadata": {},
   "outputs": [],
   "source": [
    "new_agemrg = new_agemrg.drop(['religion'], axis=1)"
   ]
  },
  {
   "cell_type": "code",
   "execution_count": 75,
   "id": "d9fe3965",
   "metadata": {},
   "outputs": [
    {
     "data": {
      "text/html": [
       "<div>\n",
       "<style scoped>\n",
       "    .dataframe tbody tr th:only-of-type {\n",
       "        vertical-align: middle;\n",
       "    }\n",
       "\n",
       "    .dataframe tbody tr th {\n",
       "        vertical-align: top;\n",
       "    }\n",
       "\n",
       "    .dataframe thead th {\n",
       "        text-align: right;\n",
       "    }\n",
       "</style>\n",
       "<table border=\"1\" class=\"dataframe\">\n",
       "  <thead>\n",
       "    <tr style=\"text-align: right;\">\n",
       "      <th></th>\n",
       "      <th>gender</th>\n",
       "      <th>caste</th>\n",
       "      <th>profession</th>\n",
       "      <th>location</th>\n",
       "      <th>age_of_marriage</th>\n",
       "      <th>height_cms</th>\n",
       "    </tr>\n",
       "  </thead>\n",
       "  <tbody>\n",
       "    <tr>\n",
       "      <th>0</th>\n",
       "      <td>female</td>\n",
       "      <td>others</td>\n",
       "      <td>NaN</td>\n",
       "      <td>London</td>\n",
       "      <td>21.0</td>\n",
       "      <td>162.32</td>\n",
       "    </tr>\n",
       "    <tr>\n",
       "      <th>1</th>\n",
       "      <td>male</td>\n",
       "      <td>Shwetamber</td>\n",
       "      <td>Doctor / Healthcare Professional</td>\n",
       "      <td>Fairfax- VA</td>\n",
       "      <td>32.0</td>\n",
       "      <td>169.76</td>\n",
       "    </tr>\n",
       "    <tr>\n",
       "      <th>2</th>\n",
       "      <td>male</td>\n",
       "      <td>Brahmin</td>\n",
       "      <td>Entrepreneurs / Business</td>\n",
       "      <td>Begusarai</td>\n",
       "      <td>32.0</td>\n",
       "      <td>169.76</td>\n",
       "    </tr>\n",
       "    <tr>\n",
       "      <th>3</th>\n",
       "      <td>female</td>\n",
       "      <td>Thakur</td>\n",
       "      <td>Architect</td>\n",
       "      <td>Mumbai</td>\n",
       "      <td>30.0</td>\n",
       "      <td>152.4</td>\n",
       "    </tr>\n",
       "    <tr>\n",
       "      <th>4</th>\n",
       "      <td>male</td>\n",
       "      <td>Born Again</td>\n",
       "      <td>Sales Professional / Marketing</td>\n",
       "      <td>Sulthan Bathery</td>\n",
       "      <td>30.0</td>\n",
       "      <td>164.8</td>\n",
       "    </tr>\n",
       "  </tbody>\n",
       "</table>\n",
       "</div>"
      ],
      "text/plain": [
       "   gender        caste                        profession         location  \\\n",
       "0  female       others                               NaN           London   \n",
       "1    male   Shwetamber  Doctor / Healthcare Professional      Fairfax- VA   \n",
       "2    male      Brahmin         Entrepreneurs / Business         Begusarai   \n",
       "3  female       Thakur                         Architect           Mumbai   \n",
       "4    male   Born Again    Sales Professional / Marketing  Sulthan Bathery   \n",
       "\n",
       "   age_of_marriage  height_cms  \n",
       "0             21.0      162.32  \n",
       "1             32.0      169.76  \n",
       "2             32.0      169.76  \n",
       "3             30.0       152.4  \n",
       "4             30.0       164.8  "
      ]
     },
     "execution_count": 75,
     "metadata": {},
     "output_type": "execute_result"
    }
   ],
   "source": [
    "new_agemrg.head()"
   ]
  },
  {
   "cell_type": "code",
   "execution_count": 76,
   "id": "287e3c9a",
   "metadata": {},
   "outputs": [],
   "source": [
    "# filling NaN values in Location column with 'Unknown'\n",
    "\n",
    "new_agemrg['location'] = new_agemrg['location'].fillna('Unknown')"
   ]
  },
  {
   "cell_type": "code",
   "execution_count": 79,
   "id": "f94a8a6e",
   "metadata": {},
   "outputs": [],
   "source": [
    "# fillling NaN values in Caste column with 'others'\n",
    "\n",
    "new_agemrg['caste'] = new_agemrg['caste'].fillna('others')"
   ]
  },
  {
   "cell_type": "code",
   "execution_count": 83,
   "id": "bf156a61",
   "metadata": {},
   "outputs": [
    {
     "data": {
      "text/plain": [
       "Not Specified                   263\n",
       "Not working                     252\n",
       "Banking Professional            107\n",
       "Software Professional           105\n",
       "Entrepreneurs / Business         85\n",
       "                               ... \n",
       "Hairstylist                       1\n",
       "Indian Police Services [IPS]      1\n",
       "Journalist                        1\n",
       "IAS / IRS / IES / IFS             1\n",
       "Pilot / Co-Pilot                  1\n",
       "Name: profession, Length: 86, dtype: int64"
      ]
     },
     "execution_count": 83,
     "metadata": {},
     "output_type": "execute_result"
    }
   ],
   "source": [
    "new_agemrg['profession'].value_counts()"
   ]
  },
  {
   "cell_type": "code",
   "execution_count": 85,
   "id": "b5995b4c",
   "metadata": {},
   "outputs": [],
   "source": [
    "# fillling NaN values in Profession column with 'Not Specified'\n",
    "\n",
    "new_agemrg['profession'] = new_agemrg['profession'].fillna('Not Specified')"
   ]
  },
  {
   "cell_type": "code",
   "execution_count": 86,
   "id": "a2feb92d",
   "metadata": {},
   "outputs": [
    {
     "data": {
      "text/plain": [
       "gender             0\n",
       "caste              0\n",
       "profession         0\n",
       "location           0\n",
       "age_of_marriage    0\n",
       "height_cms         0\n",
       "dtype: int64"
      ]
     },
     "execution_count": 86,
     "metadata": {},
     "output_type": "execute_result"
    }
   ],
   "source": [
    "new_agemrg.isnull().sum()"
   ]
  }
 ],
 "metadata": {
  "kernelspec": {
   "display_name": "Python 3 (ipykernel)",
   "language": "python",
   "name": "python3"
  },
  "language_info": {
   "codemirror_mode": {
    "name": "ipython",
    "version": 3
   },
   "file_extension": ".py",
   "mimetype": "text/x-python",
   "name": "python",
   "nbconvert_exporter": "python",
   "pygments_lexer": "ipython3",
   "version": "3.9.7"
  }
 },
 "nbformat": 4,
 "nbformat_minor": 5
}
